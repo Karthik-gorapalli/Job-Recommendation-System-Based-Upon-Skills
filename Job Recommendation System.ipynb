{
 "cells": [
  {
   "cell_type": "markdown",
   "id": "c36599df-512a-4aec-a34d-bd80cb3e9850",
   "metadata": {},
   "source": [
    "# Bussiness Problem\n",
    "### **To create a recommendation sysytem to identify jobs based on specific skills.**"
   ]
  },
  {
   "cell_type": "markdown",
   "id": "4b755431-5ef3-4b23-804d-fd76fa7159cb",
   "metadata": {},
   "source": [
    "# Data Understanding \n",
    "**Understanding each feature**"
   ]
  },
  {
   "cell_type": "code",
   "execution_count": 1,
   "id": "05fa31cd-c855-467a-86ab-a5b64eb9cd2a",
   "metadata": {},
   "outputs": [],
   "source": [
    "# Importing all neccessary libraries \n",
    "import pandas as pd\n",
    "import numpy as np\n",
    "import warnings\n",
    "\n",
    "from sklearn.feature_extraction.text import TfidfVectorizer # To vectorize the documents\n",
    "from sklearn.metrics.pairwise import cosine_similarity # To find similarity score between records\n",
    "\n",
    "warnings.simplefilter(\"ignore\")\n",
    "pd.set_option(\"display.max_columns\",None)"
   ]
  },
  {
   "cell_type": "code",
   "execution_count": 2,
   "id": "984a61ef-4344-443f-b6e8-5d883104ba84",
   "metadata": {},
   "outputs": [
    {
     "data": {
      "text/html": [
       "<div>\n",
       "<style scoped>\n",
       "    .dataframe tbody tr th:only-of-type {\n",
       "        vertical-align: middle;\n",
       "    }\n",
       "\n",
       "    .dataframe tbody tr th {\n",
       "        vertical-align: top;\n",
       "    }\n",
       "\n",
       "    .dataframe thead th {\n",
       "        text-align: right;\n",
       "    }\n",
       "</style>\n",
       "<table border=\"1\" class=\"dataframe\">\n",
       "  <thead>\n",
       "    <tr style=\"text-align: right;\">\n",
       "      <th></th>\n",
       "      <th>JobID</th>\n",
       "      <th>Title</th>\n",
       "      <th>ExperienceLevel</th>\n",
       "      <th>YearsOfExperience</th>\n",
       "      <th>Skills</th>\n",
       "      <th>Responsibilities</th>\n",
       "      <th>Keywords</th>\n",
       "    </tr>\n",
       "  </thead>\n",
       "  <tbody>\n",
       "    <tr>\n",
       "      <th>0</th>\n",
       "      <td>NET-F-001</td>\n",
       "      <td>.NET Developer</td>\n",
       "      <td>Fresher</td>\n",
       "      <td>0-1</td>\n",
       "      <td>C#; VB.NET basics; .NET Framework; .NET Core f...</td>\n",
       "      <td>Assist in coding and debugging applications; L...</td>\n",
       "      <td>.NET; C#; ASP.NET MVC; Entity Framework; SQL S...</td>\n",
       "    </tr>\n",
       "    <tr>\n",
       "      <th>1</th>\n",
       "      <td>NET-F-002</td>\n",
       "      <td>.NET Developer</td>\n",
       "      <td>Fresher</td>\n",
       "      <td>0-1</td>\n",
       "      <td>C#; .NET Framework basics; ASP.NET; Razor; HTM...</td>\n",
       "      <td>Write simple C# programs under guidance; Suppo...</td>\n",
       "      <td>.NET; C#; ASP.NET MVC; Entity Framework; SQL S...</td>\n",
       "    </tr>\n",
       "    <tr>\n",
       "      <th>2</th>\n",
       "      <td>NET-F-003</td>\n",
       "      <td>.NET Developer</td>\n",
       "      <td>Fresher</td>\n",
       "      <td>0-1</td>\n",
       "      <td>C#; VB.NET basics; .NET Core; ASP.NET MVC; HTM...</td>\n",
       "      <td>Contribute to development of small modules; As...</td>\n",
       "      <td>.NET; C#; ASP.NET MVC; SQL Server; Entity Fram...</td>\n",
       "    </tr>\n",
       "  </tbody>\n",
       "</table>\n",
       "</div>"
      ],
      "text/plain": [
       "       JobID           Title ExperienceLevel YearsOfExperience  \\\n",
       "0  NET-F-001  .NET Developer         Fresher               0-1   \n",
       "1  NET-F-002  .NET Developer         Fresher               0-1   \n",
       "2  NET-F-003  .NET Developer         Fresher               0-1   \n",
       "\n",
       "                                              Skills  \\\n",
       "0  C#; VB.NET basics; .NET Framework; .NET Core f...   \n",
       "1  C#; .NET Framework basics; ASP.NET; Razor; HTM...   \n",
       "2  C#; VB.NET basics; .NET Core; ASP.NET MVC; HTM...   \n",
       "\n",
       "                                    Responsibilities  \\\n",
       "0  Assist in coding and debugging applications; L...   \n",
       "1  Write simple C# programs under guidance; Suppo...   \n",
       "2  Contribute to development of small modules; As...   \n",
       "\n",
       "                                            Keywords  \n",
       "0  .NET; C#; ASP.NET MVC; Entity Framework; SQL S...  \n",
       "1  .NET; C#; ASP.NET MVC; Entity Framework; SQL S...  \n",
       "2  .NET; C#; ASP.NET MVC; SQL Server; Entity Fram...  "
      ]
     },
     "execution_count": 2,
     "metadata": {},
     "output_type": "execute_result"
    }
   ],
   "source": [
    "df = pd.read_csv(\"job_dataset.csv\")\n",
    "df.head(3)"
   ]
  },
  {
   "cell_type": "code",
   "execution_count": 3,
   "id": "099b551f-d250-4888-87df-43608989fff9",
   "metadata": {},
   "outputs": [
    {
     "name": "stdout",
     "output_type": "stream",
     "text": [
      "<class 'pandas.core.frame.DataFrame'>\n",
      "RangeIndex: 1068 entries, 0 to 1067\n",
      "Data columns (total 7 columns):\n",
      " #   Column             Non-Null Count  Dtype \n",
      "---  ------             --------------  ----- \n",
      " 0   JobID              1068 non-null   object\n",
      " 1   Title              1067 non-null   object\n",
      " 2   ExperienceLevel    1068 non-null   object\n",
      " 3   YearsOfExperience  1068 non-null   object\n",
      " 4   Skills             1068 non-null   object\n",
      " 5   Responsibilities   1068 non-null   object\n",
      " 6   Keywords           1068 non-null   object\n",
      "dtypes: object(7)\n",
      "memory usage: 58.5+ KB\n"
     ]
    }
   ],
   "source": [
    "df.info()"
   ]
  },
  {
   "cell_type": "markdown",
   "id": "3bfdf9e9-c663-428b-ae11-7520fc40734b",
   "metadata": {},
   "source": [
    "`Observation` :   Title consists one null value "
   ]
  },
  {
   "cell_type": "code",
   "execution_count": 4,
   "id": "6d45fd46-fb40-4223-a75d-cd4e9d2cbb3a",
   "metadata": {},
   "outputs": [
    {
     "data": {
      "text/plain": [
       "Index(['jobid', 'title', 'experiencelevel', 'yearsofexperience', 'skills',\n",
       "       'responsibilities', 'keywords'],\n",
       "      dtype='object')"
      ]
     },
     "execution_count": 4,
     "metadata": {},
     "output_type": "execute_result"
    }
   ],
   "source": [
    "# converting all columns names to lower case (Column name standardization)\n",
    "df.columns = df.columns.str.lower()\n",
    "df.columns"
   ]
  },
  {
   "cell_type": "code",
   "execution_count": 5,
   "id": "364b69d8-8ee3-4ac5-acc2-16fa73571b86",
   "metadata": {},
   "outputs": [
    {
     "data": {
      "text/plain": [
       "array(['NET-F-001', 'NET-F-002', 'NET-F-003', ..., 'WEB-E-018',\n",
       "       'WEB-E-019', 'WEB-E-020'], shape=(1038,), dtype=object)"
      ]
     },
     "execution_count": 5,
     "metadata": {},
     "output_type": "execute_result"
    }
   ],
   "source": [
    "df[\"jobid\"].unique() # Drop"
   ]
  },
  {
   "cell_type": "code",
   "execution_count": 6,
   "id": "b5d6fc86-72e1-4cc3-97d0-01902211a812",
   "metadata": {},
   "outputs": [
    {
     "name": "stdout",
     "output_type": "stream",
     "text": [
      "No of uniques values    218\n",
      "------------------------------\n"
     ]
    },
    {
     "data": {
      "text/plain": [
       "title\n",
       ".NET Developer                 20\n",
       "AI Prompt Engineer             20\n",
       "AR/VR Developer                20\n",
       "Business Analyst               20\n",
       "Data Engineer                  20\n",
       "                               ..\n",
       "Senior Interaction Designer     1\n",
       "UX Consultant                   1\n",
       "UX Strategist                   1\n",
       "UX Design Lead                  1\n",
       "Staff UX Designer               1\n",
       "Name: count, Length: 218, dtype: int64"
      ]
     },
     "execution_count": 6,
     "metadata": {},
     "output_type": "execute_result"
    }
   ],
   "source": [
    "print(\"No of uniques values   \" , df[\"title\"].nunique())\n",
    "print(\"------------------------------\")\n",
    "df[\"title\"].value_counts()"
   ]
  },
  {
   "cell_type": "code",
   "execution_count": 7,
   "id": "0c999cd6-8254-4bb4-ae39-879f99be4839",
   "metadata": {},
   "outputs": [
    {
     "name": "stdout",
     "output_type": "stream",
     "text": [
      "No of unique values    11\n",
      "---------------------------\n"
     ]
    },
    {
     "data": {
      "text/plain": [
       "experiencelevel\n",
       "Experienced         476\n",
       "Fresher             363\n",
       "Entry-Level          66\n",
       "Senior-Level         66\n",
       "Mid-Level            60\n",
       "Senior               15\n",
       "Lead                  7\n",
       "Junior                5\n",
       "Mid-level             5\n",
       "Mid-Senior Level      3\n",
       "Mid-Senior            2\n",
       "Name: count, dtype: int64"
      ]
     },
     "execution_count": 7,
     "metadata": {},
     "output_type": "execute_result"
    }
   ],
   "source": [
    "\n",
    "print(\"No of unique values   \" , df[\"experiencelevel\"].nunique())\n",
    "print(\"---------------------------\")\n",
    "df[\"experiencelevel\"].value_counts()"
   ]
  },
  {
   "cell_type": "code",
   "execution_count": 8,
   "id": "fa7c708f-a3ed-4d59-b4d5-23a08ef72f4d",
   "metadata": {},
   "outputs": [
    {
     "name": "stdout",
     "output_type": "stream",
     "text": [
      "No of unique values    110\n",
      "---------------------------\n"
     ]
    },
    {
     "data": {
      "text/plain": [
       "yearsofexperience\n",
       "0-1           247\n",
       "0–1 year      104\n",
       "5+             49\n",
       "0              48\n",
       "2-5            35\n",
       "             ... \n",
       "5–7 years       1\n",
       "1–3 years       1\n",
       "13-17           1\n",
       "7–10 years      1\n",
       "7-9             1\n",
       "Name: count, Length: 110, dtype: int64"
      ]
     },
     "execution_count": 8,
     "metadata": {},
     "output_type": "execute_result"
    }
   ],
   "source": [
    "print(\"No of unique values   \" , df[\"yearsofexperience\"].nunique())\n",
    "print(\"---------------------------\")\n",
    "df[\"yearsofexperience\"].value_counts()"
   ]
  },
  {
   "cell_type": "code",
   "execution_count": 9,
   "id": "639bf74f-216e-497f-9ae5-04bb82730495",
   "metadata": {},
   "outputs": [
    {
     "name": "stdout",
     "output_type": "stream",
     "text": [
      "No of unique values    969\n",
      "---------------------------\n"
     ]
    },
    {
     "data": {
      "text/plain": [
       "skills\n",
       "Salesforce; HubSpot; Predictive Analytics; Lead Generation; Negotiation; Closing Techniques; Sales Automation; Social Selling; Data-driven Sales; Relationship Management               6\n",
       "Advanced Technical Writing; Structured Authoring; API Documentation; Adobe FrameMaker; MadCap Flare; XML/HTML/CSS; CMS; AI-assisted Documentation; Version Control; UX Documentation    5\n",
       "Salesforce; HubSpot; Lead Generation; Negotiation; Closing Deals; Pipeline Management; Product Demos; Sales Forecasting; Social Selling; Time Management                                5\n",
       "Technical Writing; Editing; Proofreading; Adobe FrameMaker; MadCap Flare; CMS; HTML/CSS/XML; AI Writing Tools; Version Control; Agile Documentation                                     5\n",
       "Clear Writing; Proofreading; Basic HTML/CSS; Research Skills; CMS Basics; Markdown; Collaboration; Time Management; Attention to Detail; Adaptability                                   4\n",
       "                                                                                                                                                                                       ..\n",
       "JavaScript; Angular; Node.js; Express.js; Django; SQL; Redis; AWS; Docker; CI/CD; Testing frameworks                                                                                    1\n",
       "JavaScript; TypeScript; React; Node.js; Express.js; SQL; MongoDB; Docker; Kubernetes; GraphQL; REST APIs                                                                                1\n",
       "JavaScript; Vue.js; Node.js; Express.js; SQL; Redis; Docker; AWS; CI/CD; Testing with Jest/Enzyme                                                                                       1\n",
       "JavaScript; React; Node.js; Express.js; MongoDB; Docker; Kubernetes; AWS; GraphQL; REST APIs                                                                                            1\n",
       "HTML5; CSS3; JavaScript; Vue.js basics; Node.js basics; Git; MySQL basics; REST APIs; Responsive Design                                                                                 1\n",
       "Name: count, Length: 969, dtype: int64"
      ]
     },
     "execution_count": 9,
     "metadata": {},
     "output_type": "execute_result"
    }
   ],
   "source": [
    "print(\"No of unique values   \" , df[\"skills\"].nunique())\n",
    "print(\"---------------------------\")\n",
    "df[\"skills\"].value_counts()"
   ]
  },
  {
   "cell_type": "code",
   "execution_count": 10,
   "id": "d656f1d2-24f1-44fc-a7bf-85893e3240e2",
   "metadata": {},
   "outputs": [
    {
     "name": "stdout",
     "output_type": "stream",
     "text": [
      "No of unique values    1047\n",
      "---------------------------\n"
     ]
    },
    {
     "data": {
      "text/plain": [
       "responsibilities\n",
       "Define and drive product strategy; Collaborate with engineering, design, and marketing teams; Analyze product metrics and conduct experiments; Lead agile ceremonies; Engage stakeholders and manage expectations; Mentor junior PMs                                                                                                                                                                                    3\n",
       "Drive product vision and roadmap; Lead cross-functional teams; Oversee product analytics and experiments; Conduct user research; Ensure agile best practices; Manage stakeholder communication; Optimize product performance metrics                                                                                                                                                                                    3\n",
       "Define and drive product strategy; Lead product roadmap execution; Collaborate across teams; Conduct user research and analyze metrics; Ensure agile best practices; Engage stakeholders; Optimize product growth                                                                                                                                                                                                       3\n",
       "Lead product vision and strategy; Oversee roadmap execution; Drive data-informed decisions; Collaborate across teams; Conduct user research; Ensure agile best practices; Track and optimize growth metrics                                                                                                                                                                                                             3\n",
       "Lead complex business analysis initiatives; Design and maintain BI dashboards and reports; Oversee requirement gathering and documentation; Implement AI-driven analytics solutions; Facilitate Agile project management; Collaborate with business and technical teams; Deliver actionable insights to executives; Support strategic business planning; Mentor junior analysts; Automate KPI tracking and reporting    2\n",
       "                                                                                                                                                                                                                                                                                                                                                                                                                       ..\n",
       "Lead AI-assisted coding projects across the organization; Define prompt engineering and workflow standards; Mentor Vibe Coders at all levels; Oversee code quality and performance; Drive innovation in AI-assisted software development; Coordinate cross-functional collaboration; Document best practices and strategic initiatives                                                                                  1\n",
       "Assist in front-end development tasks; Write basic HTML, CSS, and JavaScript code; Develop small components using React or Angular; Support backend API integration; Participate in version control with Git/GitHub; Learn responsive design principles; Assist in testing and debugging                                                                                                                                1\n",
       "Develop simple front-end pages; Assist in back-end scripting with Node.js or Python; Integrate APIs into web pages; Learn version control practices; Participate in debugging and testing tasks                                                                                                                                                                                                                         1\n",
       "Build basic front-end UI components; Support API integration and data fetching; Learn and apply responsive design; Collaborate with team members; Participate in code reviews                                                                                                                                                                                                                                           1\n",
       "Assist in Razor page development; Learn version control processes; Perform debugging under supervision; Support data access layer coding; Contribute to testing efforts                                                                                                                                                                                                                                                 1\n",
       "Name: count, Length: 1047, dtype: int64"
      ]
     },
     "execution_count": 10,
     "metadata": {},
     "output_type": "execute_result"
    }
   ],
   "source": [
    "print(\"No of unique values   \" , df[\"responsibilities\"].nunique())\n",
    "print(\"---------------------------\")\n",
    "df[\"responsibilities\"].value_counts()"
   ]
  },
  {
   "cell_type": "code",
   "execution_count": 11,
   "id": "11abf006-972e-429b-aab5-eff79436e08c",
   "metadata": {},
   "outputs": [
    {
     "name": "stdout",
     "output_type": "stream",
     "text": [
      "No of unique values    678\n",
      "---------------------------\n"
     ]
    },
    {
     "data": {
      "text/plain": [
       "keywords\n",
       "JavaScript; TypeScript; React; Node.js; Jest; Webpack; Redux; CI/CD; Docker                                                                                             15\n",
       "Unity; Unreal Engine; C#; ARKit; ARCore; 3D Graphics; Spatial Computing; Performance Optimization; Cross-Platform; Machine Learning                                     15\n",
       "C++; C#; Unity; Unreal Engine; Game AI; Shader Programming; Multiplayer; Performance Optimization                                                                       15\n",
       "Product Strategy; Data-Driven Decisions; Roadmapping; Agile Leadership; Stakeholder Management; User-Centered Design; Growth Metrics; Cross-Functional Collaboration    15\n",
       "Ethical Hacking; Penetration Testing; Network Security; Python; Linux; Windows Security; Metasploit; Burp Suite; Cryptography; Malware Analysis                         14\n",
       "                                                                                                                                                                        ..\n",
       "React; Node.js; Express.js; SQL; MongoDB; Docker; Kubernetes; AWS; CI/CD; GraphQL                                                                                        1\n",
       "Angular; Node.js; Express.js; Django; SQL; Redis; AWS; Docker; CI/CD                                                                                                     1\n",
       "React; Node.js; Express.js; SQL; MongoDB; Docker; Kubernetes; GraphQL; REST APIs                                                                                         1\n",
       "Vue.js; Node.js; Express.js; SQL; Redis; Docker; AWS; CI/CD; Jest; Enzyme                                                                                                1\n",
       ".NET; C#; ASP.NET; Razor; SQL Server; Unit Testing                                                                                                                       1\n",
       "Name: count, Length: 678, dtype: int64"
      ]
     },
     "execution_count": 11,
     "metadata": {},
     "output_type": "execute_result"
    }
   ],
   "source": [
    "print(\"No of unique values   \" , df[\"keywords\"].nunique()) # Drop--> these feture values are similar to skills feature\n",
    "print(\"---------------------------\")\n",
    "df[\"keywords\"].value_counts()"
   ]
  },
  {
   "cell_type": "markdown",
   "id": "3b3a1ccb-e84d-4d8c-aedb-a914b5392810",
   "metadata": {},
   "source": [
    "# Data Cleaning "
   ]
  },
  {
   "cell_type": "code",
   "execution_count": 12,
   "id": "e7680ff1-1fbe-4c0a-8da2-14047a2d0d6b",
   "metadata": {},
   "outputs": [],
   "source": [
    "# droping missing values record (title of one job missing )\n",
    "df.dropna(axis = 0, inplace = True, ignore_index = True)\n",
    "# droping jobid and keywords features which are not important.\n",
    "df.drop([\"keywords\",\"jobid\"], axis = 1, inplace = True )"
   ]
  },
  {
   "cell_type": "code",
   "execution_count": 13,
   "id": "20f77c87-084d-4f2d-8d9c-aafbfee70e1c",
   "metadata": {},
   "outputs": [],
   "source": [
    "# Standardizing years of experience feature\n",
    "for i in range(len(df)):\n",
    "    df[\"yearsofexperience\"][i] = df[\"yearsofexperience\"][i].split()[0]\n",
    "for i in range(len(df)):\n",
    "    if df[\"yearsofexperience\"][i].find(\"–\") >= 0:\n",
    "        df[\"yearsofexperience\"][i] = df[\"yearsofexperience\"][i].split(\"–\")[0] + \"-\" + df[\"yearsofexperience\"][i].split(\"–\")[1]"
   ]
  },
  {
   "cell_type": "code",
   "execution_count": 14,
   "id": "483567ae-cd3f-4cc1-9865-95dbbaf4a469",
   "metadata": {},
   "outputs": [],
   "source": [
    "# Standardizing experiencelevel feature\n",
    "for i in range(len(df)):\n",
    "    df[\"experiencelevel\"][i] = df[\"experiencelevel\"][i].lower().split(\" \")[0]\n",
    "for i in range(len(df)):\n",
    "    if \"-level\" in df[\"experiencelevel\"][i]:\n",
    "        df[\"experiencelevel\"][i] = df[\"experiencelevel\"][i].split(\"-level\")[0]"
   ]
  },
  {
   "cell_type": "code",
   "execution_count": 15,
   "id": "78757ed5-e07d-488f-9f37-ce3421f0c46d",
   "metadata": {},
   "outputs": [],
   "source": [
    "# Replacing semi-colon(\";\") with space(\" \") for easy vectorization\n",
    "df[\"skills\"] = df[\"skills\"].str.replace(\"; \", \" \")  "
   ]
  },
  {
   "cell_type": "code",
   "execution_count": 16,
   "id": "802e1713-7e1e-4a9f-8477-d35449690413",
   "metadata": {},
   "outputs": [],
   "source": [
    "# Appending experience level and job title to the skills, so that it may become key(important) for the similarity score.\n",
    "df[\"combined_features\"] = np.nan # creating an empty column\n",
    "for i in range(len(df)):\n",
    "    df[\"combined_features\"][i] = df[\"skills\"][i] + \" \" + df[\"experiencelevel\"][i] + \" \" + df[\"title\"][i]"
   ]
  },
  {
   "cell_type": "code",
   "execution_count": 17,
   "id": "e1919c9f-378b-4ac4-98bc-3fdaf518b158",
   "metadata": {},
   "outputs": [
    {
     "data": {
      "text/plain": [
       "'C# VB.NET basics .NET Framework .NET Core fundamentals ASP.NET MVC HTML CSS JavaScript basics SQL Server Entity Framework basics LINQ Visual Studio Git Unit Testing basics fresher .NET Developer'"
      ]
     },
     "execution_count": 17,
     "metadata": {},
     "output_type": "execute_result"
    }
   ],
   "source": [
    "df[\"combined_features\"][0] # cross checking single record "
   ]
  },
  {
   "cell_type": "markdown",
   "id": "42e926da-afed-4504-8731-5c3e0af32dcf",
   "metadata": {},
   "source": [
    "### Tf-idf Vectorizer"
   ]
  },
  {
   "cell_type": "code",
   "execution_count": 18,
   "id": "47f24550-9968-4529-9b87-74b61490850d",
   "metadata": {},
   "outputs": [],
   "source": [
    "# TF-IDF Vectorizer initialization\n",
    "regex = r\"[A-Za-z0-9+#/.]+\"   # custom regex (pattern) to vectorize \n",
    "vectorizer = TfidfVectorizer(token_pattern = regex)\n",
    "\n",
    "# fit the vectorizer to skills feature\n",
    "features_vector = vectorizer.fit_transform(df[\"combined_features\"]).toarray()\n",
    "\n",
    "# Similarity score\n",
    "similarity = cosine_similarity(features_vector)"
   ]
  },
  {
   "cell_type": "code",
   "execution_count": 19,
   "id": "4ebb7935-81f8-4107-ae0b-34a18bcb5496",
   "metadata": {},
   "outputs": [
    {
     "data": {
      "text/plain": [
       "array(['.net', '/', '27001', ..., 'yarn', 'zero', 'zigbee'],\n",
       "      shape=(1014,), dtype=object)"
      ]
     },
     "execution_count": 19,
     "metadata": {},
     "output_type": "execute_result"
    }
   ],
   "source": [
    "vectorizer.get_feature_names_out()"
   ]
  },
  {
   "cell_type": "code",
   "execution_count": 20,
   "id": "0f4edcef-1cb7-42ab-8cce-1ff7f39eb6a2",
   "metadata": {},
   "outputs": [
    {
     "name": "stdout",
     "output_type": "stream",
     "text": [
      "(1067, 1014)\n",
      "(1067, 1067)\n"
     ]
    }
   ],
   "source": [
    "print(pd.DataFrame(features_vector,columns = vectorizer.get_feature_names_out()).shape)\n",
    "print(similarity.shape)"
   ]
  },
  {
   "cell_type": "code",
   "execution_count": 21,
   "id": "058d3a21-f673-4029-a10e-c7c27025a926",
   "metadata": {},
   "outputs": [
    {
     "data": {
      "text/plain": [
       "array([[1.        , 0.73962923, 0.77616339, ..., 0.07063744, 0.03603762,\n",
       "        0.06731921],\n",
       "       [0.73962923, 1.        , 0.59269215, ..., 0.06000814, 0.04461931,\n",
       "        0.05718923],\n",
       "       [0.77616339, 0.59269215, 1.        , ..., 0.07504299, 0.05579854,\n",
       "        0.07151781],\n",
       "       ...,\n",
       "       [0.07063744, 0.06000814, 0.07504299, ..., 1.        , 0.42212184,\n",
       "        0.88470552],\n",
       "       [0.03603762, 0.04461931, 0.05579854, ..., 0.42212184, 1.        ,\n",
       "        0.40229247],\n",
       "       [0.06731921, 0.05718923, 0.07151781, ..., 0.88470552, 0.40229247,\n",
       "        1.        ]], shape=(1067, 1067))"
      ]
     },
     "execution_count": 21,
     "metadata": {},
     "output_type": "execute_result"
    }
   ],
   "source": [
    "similarity"
   ]
  },
  {
   "cell_type": "markdown",
   "id": "de1899d9-4233-4241-bd6c-d441ddba58b2",
   "metadata": {},
   "source": [
    "## Recommendation Function"
   ]
  },
  {
   "cell_type": "code",
   "execution_count": 22,
   "id": "3d8fda9e-220f-4dbf-9b92-c7faf7ab711b",
   "metadata": {},
   "outputs": [],
   "source": [
    "def recomender():\n",
    "    \n",
    "    skills = input(\"Enter your skills separated by space : \")\n",
    "    while True :  \n",
    "        try :\n",
    "            top_n_jobs = int(input(\"Enter how many recomendations do you want : \"))\n",
    "            if top_n_jobs > 0:\n",
    "                break\n",
    "        except  ValueError :\n",
    "            print(\"Enter a positive number greater than 0\")\n",
    "    vec = vectorizer.transform([skills])\n",
    "    sim_score = cosine_similarity(vec, features_vector).flatten()\n",
    "    sorted_indices = np.argsort(sim_score)[::-1]\n",
    "    \n",
    "    print(\" \"*60 + \"Recommendations based on your skills.\")\n",
    "    print(' '*60 + len(f\"Recommendation based on your skills.\") * \"=\")\n",
    "    print()\n",
    "    j = 1\n",
    "    for job in sorted_indices[1:top_n_jobs+1]:\n",
    "        \n",
    "        print(f\"{\" \"*75}**{j}**\")\n",
    "        print(f\"★ Job Title :  {df[\"title\"][job]}\")\n",
    "        print(f\"{len(\"★ Job Title :  \") * \"=\"}{len(df[\"title\"][job]) * \"=\"}\")\n",
    "        print(\"\")\n",
    "        print(f\"    ➤ SKILLS     : {df[\"skills\"][job].replace(\" \",\", \").replace(\",,\",\",\").replace(\":,\" , \":\")}.\")\n",
    "        print(\"\")\n",
    "        print(f\"    ➤ EXPERIENCE : {df[\"experiencelevel\"][job]} with an experience of {df[\"yearsofexperience\"][job]} years.\")\n",
    "        print(\"\")\n",
    "        print(f\"    ➤ RESPONSIBILITIES \")\n",
    "        print(f\"    {len(\"➤ RESPONSIBILITIES \") * \"-\"}\")\n",
    "        for i in range(len(df[\"responsibilities\"][job].split(\";\"))) :\n",
    "            print(f\"        → {df[\"responsibilities\"][job].split(\";\")[i].strip()}.\")\n",
    "        print(\"*\" * 200)\n",
    "        j+= 1"
   ]
  },
  {
   "cell_type": "markdown",
   "id": "9b591291-9860-4c31-8320-902d19539ef8",
   "metadata": {},
   "source": [
    "### **Recommendation system is ready**\n",
    "**Enter your skills & number of recommendations you want to view job roles.**"
   ]
  },
  {
   "cell_type": "code",
   "execution_count": 23,
   "id": "237f9140-e8dd-4378-aa9c-71615d99e185",
   "metadata": {},
   "outputs": [
    {
     "name": "stdin",
     "output_type": "stream",
     "text": [
      "Enter your skills separated by space :  python seaborn matplotlib ml\n",
      "Enter how many recomendations do you want :  3\n"
     ]
    },
    {
     "name": "stdout",
     "output_type": "stream",
     "text": [
      "                                                            Recommendations based on your skills.\n",
      "                                                            ====================================\n",
      "\n",
      "                                                                           **1**\n",
      "★ Job Title :  ML Engineer Trainee\n",
      "==================================\n",
      "\n",
      "    ➤ SKILLS     : Python, R, Java, ML, fundamentals: supervised/unsupervised, learning, classification, regression, clustering, Data, preprocessing, Feature, engineering, ML, libraries: Scikit-learn, TensorFlow, PyTorch, Keras, Statistics, and, probability, Visualization: Matplotlib, Seaborn, Git/GitHub.\n",
      "\n",
      "    ➤ EXPERIENCE : fresher with an experience of 0-1 years.\n",
      "\n",
      "    ➤ RESPONSIBILITIES \n",
      "    -------------------\n",
      "        → Assist in developing ML algorithms.\n",
      "        → Preprocess datasets and build visualization dashboards.\n",
      "        → Gain experience in ML pipeline development.\n",
      "        → Collaborate with team members.\n",
      "        → Learn ML best practices.\n",
      "********************************************************************************************************************************************************************************************************\n",
      "                                                                           **2**\n",
      "★ Job Title :  Entry-Level ML Engineer\n",
      "======================================\n",
      "\n",
      "    ➤ SKILLS     : Python, R, Java, ML, basics: classification, regression, clustering, decision, trees, Data, preprocessing, Feature, engineering, ML, libraries: Scikit-learn, TensorFlow, PyTorch, Statistics: probability, linear, algebra, Visualization: Matplotlib, Seaborn, Git/GitHub.\n",
      "\n",
      "    ➤ EXPERIENCE : fresher with an experience of 0-1 years.\n",
      "\n",
      "    ➤ RESPONSIBILITIES \n",
      "    -------------------\n",
      "        → Develop and test ML models for small datasets.\n",
      "        → Perform feature engineering and data preprocessing.\n",
      "        → Create visualizations for insights.\n",
      "        → Work under guidance from senior team members.\n",
      "        → Collaborate on entry-level projects.\n",
      "********************************************************************************************************************************************************************************************************\n",
      "                                                                           **3**\n",
      "★ Job Title :  Fresher ML Engineer\n",
      "==================================\n",
      "\n",
      "    ➤ SKILLS     : Python, R, Java, ML, fundamentals: regression, classification, clustering, decision, trees, Data, preprocessing, Feature, engineering, ML, frameworks: Scikit-learn, TensorFlow, PyTorch, Keras, Statistics: probability, linear, algebra, Data, visualization: Matplotlib, Seaborn, Git/GitHub.\n",
      "\n",
      "    ➤ EXPERIENCE : fresher with an experience of 0-1 years.\n",
      "\n",
      "    ➤ RESPONSIBILITIES \n",
      "    -------------------\n",
      "        → Support ML projects with supervised and unsupervised learning models.\n",
      "        → Perform data cleaning and feature engineering.\n",
      "        → Create visualizations for insights.\n",
      "        → Collaborate with senior engineers.\n",
      "        → Participate in open-source projects or Kaggle competitions.\n",
      "********************************************************************************************************************************************************************************************************\n"
     ]
    }
   ],
   "source": [
    "# Run this command to enter skills and prefered number of roles\n",
    "recomender()"
   ]
  },
  {
   "cell_type": "code",
   "execution_count": null,
   "id": "578a31c2-c226-4825-9678-06ab75f31ad6",
   "metadata": {},
   "outputs": [],
   "source": []
  },
  {
   "cell_type": "code",
   "execution_count": null,
   "id": "3b2d5198-c163-4daa-9700-984cfe01b8df",
   "metadata": {},
   "outputs": [],
   "source": []
  }
 ],
 "metadata": {
  "kernelspec": {
   "display_name": "Python 3 (ipykernel)",
   "language": "python",
   "name": "python3"
  },
  "language_info": {
   "codemirror_mode": {
    "name": "ipython",
    "version": 3
   },
   "file_extension": ".py",
   "mimetype": "text/x-python",
   "name": "python",
   "nbconvert_exporter": "python",
   "pygments_lexer": "ipython3",
   "version": "3.13.1"
  }
 },
 "nbformat": 4,
 "nbformat_minor": 5
}
